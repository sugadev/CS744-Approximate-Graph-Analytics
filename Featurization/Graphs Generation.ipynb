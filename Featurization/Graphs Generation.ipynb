{
 "cells": [
  {
   "cell_type": "markdown",
   "metadata": {},
   "source": [
    "# CS744: Graphs Generation\n",
    "\n",
    "### NOTE: Make sure to create two folders named edges and adjList under the folder graphs"
   ]
  },
  {
   "cell_type": "markdown",
   "metadata": {},
   "source": [
    "### import networkx"
   ]
  },
  {
   "cell_type": "code",
   "execution_count": 14,
   "metadata": {},
   "outputs": [],
   "source": [
    "import networkx as nx"
   ]
  },
  {
   "cell_type": "markdown",
   "metadata": {},
   "source": [
    "## Generate the graphs"
   ]
  },
  {
   "cell_type": "code",
   "execution_count": 15,
   "metadata": {},
   "outputs": [],
   "source": [
    "graphs = nx.graph_atlas_g()"
   ]
  },
  {
   "cell_type": "markdown",
   "metadata": {},
   "source": [
    "## number of graphs in the networkx atlas"
   ]
  },
  {
   "cell_type": "code",
   "execution_count": 16,
   "metadata": {},
   "outputs": [],
   "source": [
    "numGraphs = 1252"
   ]
  },
  {
   "cell_type": "markdown",
   "metadata": {},
   "source": [
    "## for every generated graph store the edgelist and adjacency list representation"
   ]
  },
  {
   "cell_type": "code",
   "execution_count": 17,
   "metadata": {},
   "outputs": [],
   "source": [
    "for i in range(numGraphs+1):\n",
    "    nx.write_edgelist(graphs[i], \"graphs/edges/edge_\"+str(i)+\".edgelist\")\n",
    "    nx.write_adjlist(graphs[i],\"graphs/adjList/adj_\"+str(i)+\".adjlist\")"
   ]
  },
  {
   "cell_type": "markdown",
   "metadata": {},
   "source": [
    "### Make the graph format appropriate for deepwalk"
   ]
  },
  {
   "cell_type": "code",
   "execution_count": 18,
   "metadata": {},
   "outputs": [],
   "source": [
    "for i in range(numGraphs+1):\n",
    "    with open(\"graphs/edges/edge_\"+str(i)+\".edgelist\", \"rt\") as fin:\n",
    "        with open(\"graphs_formatted/edges/edge_\"+str(i)+\".edgelist\", \"wt\") as fout:\n",
    "            for line in fin:\n",
    "                fout.write(line.replace('{}', ''))"
   ]
  },
  {
   "cell_type": "code",
   "execution_count": 20,
   "metadata": {},
   "outputs": [],
   "source": [
    "#remove the comment lines\n",
    "for i in range(numGraphs+1):\n",
    "    with open(\"graphs/adjList/adj_\"+str(i)+\".adjlist\", \"rt\") as fin:\n",
    "        with open(\"graphs_formatted/adjList/adj_\"+str(i)+\".adjlist\", \"wt\") as fout:\n",
    "            for line in fin:\n",
    "                if '#' not in line:\n",
    "                    fout.write(line)"
   ]
  },
  {
   "cell_type": "code",
   "execution_count": null,
   "metadata": {},
   "outputs": [],
   "source": []
  }
 ],
 "metadata": {
  "kernelspec": {
   "display_name": "Python 3",
   "language": "python",
   "name": "python3"
  },
  "language_info": {
   "codemirror_mode": {
    "name": "ipython",
    "version": 3
   },
   "file_extension": ".py",
   "mimetype": "text/x-python",
   "name": "python",
   "nbconvert_exporter": "python",
   "pygments_lexer": "ipython3",
   "version": "3.6.3"
  }
 },
 "nbformat": 4,
 "nbformat_minor": 2
}
