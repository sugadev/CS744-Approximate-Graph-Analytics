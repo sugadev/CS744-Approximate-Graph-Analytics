{
 "cells": [
  {
   "cell_type": "markdown",
   "metadata": {},
   "source": [
    "# CONVERT DEEPWALK VERTEX FEATURES TO EDGE FEATURES"
   ]
  },
  {
   "cell_type": "markdown",
   "metadata": {},
   "source": [
    "## Specify the directories for the script to find files and save files"
   ]
  },
  {
   "cell_type": "code",
   "execution_count": 19,
   "metadata": {},
   "outputs": [],
   "source": [
    "deepwalk_vertex_features_directory = \"deepwalk_featurized/\"\n",
    "formatted_edgelist_directory = \"graphs_formatted/edges/\"\n",
    "final_edge_features_directory = \"final_features/\""
   ]
  },
  {
   "cell_type": "markdown",
   "metadata": {},
   "source": [
    "## Actual Work!!!"
   ]
  },
  {
   "cell_type": "code",
   "execution_count": 20,
   "metadata": {},
   "outputs": [],
   "source": [
    "import os\n",
    "for filename in os.listdir(deepwalk_vertex_features_directory):\n",
    "    if filename.endswith(\".embeddings\"): \n",
    "         with open(deepwalk_vertex_features_directory+filename, \"rt\") as fin:\n",
    "                line = fin.readline();\n",
    "                line = line.replace(\"\\n\",\"\")\n",
    "                contents = line.split(\" \")\n",
    "                numFeatures = int(contents[1])\n",
    "                vertices = dict()\n",
    "                #LOAD VERTEX FEATURES\n",
    "                for line in fin:\n",
    "                    line = line.replace(\"\\n\",\"\");\n",
    "                    contents = line.split(\" \")\n",
    "                    vertex = int(contents[0])\n",
    "                    vertices[vertex]=[]\n",
    "                    for i in range(1,11):\n",
    "                        vertices[vertex].append(float(contents[i]))\n",
    "                        \n",
    "                edgeFile= formatted_edgelist_directory + filename.replace(\"graph_\",\"edge_\").replace(\".embeddings\",\".edgelist\")\n",
    "                #READ EDGE BY EDGE AND COMPUTE FEATURES AND SAVE\n",
    "                with open(edgeFile) as ein:\n",
    "                    outfile = final_edge_features_directory+filename\n",
    "                    with open(outfile,\"wt\") as of:\n",
    "                        for line in ein:\n",
    "                            line = line.replace(\"\\n\",\"\")\n",
    "                            v = line.split(\" \")\n",
    "                            v1Features= vertices[int(v[0])]\n",
    "                            v2Features=vertices[int(v[1])]\n",
    "                            feature = []\n",
    "                            for j in range(numFeatures):\n",
    "                                fVal = (v1Features[j]+v2Features[j])/2\n",
    "                                feature.append(fVal)\n",
    "                            of.write(v[0]+\" \"+v[1]+\" \"+str(feature)+\"\\n\")"
   ]
  },
  {
   "cell_type": "code",
   "execution_count": null,
   "metadata": {},
   "outputs": [],
   "source": []
  }
 ],
 "metadata": {
  "kernelspec": {
   "display_name": "Python 3",
   "language": "python",
   "name": "python3"
  },
  "language_info": {
   "codemirror_mode": {
    "name": "ipython",
    "version": 3
   },
   "file_extension": ".py",
   "mimetype": "text/x-python",
   "name": "python",
   "nbconvert_exporter": "python",
   "pygments_lexer": "ipython3",
   "version": "3.6.3"
  }
 },
 "nbformat": 4,
 "nbformat_minor": 2
}
