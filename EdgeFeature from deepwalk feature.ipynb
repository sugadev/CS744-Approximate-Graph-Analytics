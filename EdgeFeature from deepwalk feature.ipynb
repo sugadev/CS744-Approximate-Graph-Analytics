{
 "cells": [
  {
   "cell_type": "code",
   "execution_count": 51,
   "metadata": {},
   "outputs": [
    {
     "name": "stdout",
     "output_type": "stream",
     "text": [
      "0\n",
      "3\n",
      "1\n",
      "3\n",
      "2\n",
      "3\n"
     ]
    }
   ],
   "source": [
    "import os\n",
    "directory = \"deepwalk_featurized1/\"\n",
    "for filename in os.listdir(directory):\n",
    "    if filename.endswith(\".embeddings\"): \n",
    "         with open(directory+filename, \"rt\") as fin:\n",
    "                line = fin.readline();\n",
    "                line = line.replace(\"\\n\",\"\")\n",
    "                contents = line.split(\" \")\n",
    "                numFeatures = int(contents[1])\n",
    "                vertices = dict()\n",
    "                for line in fin:\n",
    "                    line = line.replace(\"\\n\",\"\");\n",
    "                    contents = line.split(\" \")\n",
    "                    vertex = int(contents[0])\n",
    "                    vertices[vertex]=[]\n",
    "                    for i in range(1,11):\n",
    "                        vertices[vertex].append(float(contents[i]))\n",
    "\n",
    "#                 print(vertices)\n",
    "                edgeFile = directory+\"edge_13.edgelist\"\n",
    "                with open(edgeFile) as ein:\n",
    "                    outfile = \"finally\"\n",
    "                    with open(outfile,\"wt\") as of:\n",
    "                        for line in ein:\n",
    "                            v = line.split(\" \")\n",
    "                            v1Features= vertices[int(v[0])]\n",
    "                            v2Features=vertices[int(v[1])]\n",
    "                            print(v[0])\n",
    "                            print(v[1])\n",
    "                            feature = []\n",
    "                            for j in range(numFeatures):\n",
    "                                fVal = (v1Features[j]+v2Features[j])/2\n",
    "                                feature.append(fVal)\n",
    "                            of.write(v[0]+\" \"+v[1]+\" \"+str(feature)+\"\\n\")\n",
    "                        \n",
    "                    \n",
    "                   # print(contents)"
   ]
  },
  {
   "cell_type": "code",
   "execution_count": null,
   "metadata": {},
   "outputs": [],
   "source": []
  },
  {
   "cell_type": "code",
   "execution_count": null,
   "metadata": {},
   "outputs": [],
   "source": []
  }
 ],
 "metadata": {
  "kernelspec": {
   "display_name": "Python 3",
   "language": "python",
   "name": "python3"
  },
  "language_info": {
   "codemirror_mode": {
    "name": "ipython",
    "version": 3
   },
   "file_extension": ".py",
   "mimetype": "text/x-python",
   "name": "python",
   "nbconvert_exporter": "python",
   "pygments_lexer": "ipython3",
   "version": "3.6.3"
  }
 },
 "nbformat": 4,
 "nbformat_minor": 2
}
