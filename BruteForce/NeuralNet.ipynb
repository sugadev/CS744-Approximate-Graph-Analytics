{
 "cells": [
  {
   "cell_type": "code",
   "execution_count": 14,
   "metadata": {},
   "outputs": [],
   "source": [
    "!sed -i 's/\\]//g' /home/krishraj95/Big_Data_Project/CS744-Approximate-Graph-Analytics/Featurization/final_features/*\n",
    "!sed -i 's/\\[//g' /home/krishraj95/Big_Data_Project/CS744-Approximate-Graph-Analytics/Featurization/final_features/*\n",
    "!sed -i 's/\\,//g' /home/krishraj95/Big_Data_Project/CS744-Approximate-Graph-Analytics/Featurization/final_features/*"
   ]
  },
  {
   "cell_type": "code",
   "execution_count": 16,
   "metadata": {
    "scrolled": true
   },
   "outputs": [
    {
     "name": "stdout",
     "output_type": "stream",
     "text": [
      "[(0, 1), (0, 2), (0, 3), (0, 4), (1, 4), (2, 3), (3, 5)]\n",
      "0.5\n",
      "0.5\n",
      "[(0, 2), (0, 3), (0, 4), (1, 4), (2, 3), (3, 5)]\n",
      "1.0\n",
      "1.0\n",
      "[(0, 3), (0, 4), (1, 4), (2, 3), (3, 5)]\n",
      "1.0\n",
      "1.0\n",
      "[(0, 4), (1, 4), (2, 3), (3, 5)]\n",
      "1.0\n",
      "1.0\n",
      "[(1, 4), (2, 3), (3, 5)]\n",
      "1.0\n",
      "1.0\n",
      "[(2, 3), (3, 5)]\n",
      "1.0\n",
      "1.0\n",
      "[(3, 5)]\n",
      "1.0\n",
      "1.0\n",
      "0\n"
     ]
    }
   ],
   "source": [
    "import networkx as nx\n",
    "trainFilesFolder = \"/home/krishraj95/Big_Data_Project/CS744-Approximate-Graph-Analytics/Featurization/final_features/\"\n",
    "import os\n",
    "import copy \n",
    "\n",
    "def getTrianglesCount(G):\n",
    "    triangles = nx.triangles(G).values()\n",
    "    res =0\n",
    "    for t in triangles:\n",
    "        res+=t\n",
    "    return int(res/3);\n",
    "\n",
    "def getLossReward(orgG,newG):\n",
    "    t1= getTrianglesCount(orgG)\n",
    "    t2 = getTrianglesCount(newG)\n",
    "    diff = t1-t2\n",
    "    error = diff/t1\n",
    "    return error\n",
    "\n",
    "def getLossRewardWithValue(orgValue,newG):\n",
    "#     t1= getTrianglesCount(orgG)\n",
    "    t2 = getTrianglesCount(newG)\n",
    "    diff = orgValue-t2\n",
    "    error = diff/orgValue\n",
    "    return error\n",
    "\n",
    "'''\n",
    "Graphs = dict()\n",
    "for filename in os.listdir(trainFilesFolder):\n",
    "#     print(filename)\n",
    "    if filename.endswith(\".embeddings\"):\n",
    "        G=nx.read_edgelist(trainFilesFolder+filename, nodetype=int, data=(('f1',float),('f2',float),('f3',float),('f4',float),('f5',float),('f6',float),('f7',float),('f8',float),('f9',float),('f10',float),))\n",
    "        Graphs[filename]=G\n",
    "#         print(filename)\n",
    "# print(Graphs['graph_28.embeddings'].edges().data()[0])\n",
    "# for e in Graphs['graph_28.embeddings'].edges(data=True):\n",
    "#     print(e[2]['f1'])\n",
    "'''\n",
    "oriTriangleCount = (getTrianglesCount(Graphs['graph_119.embeddings']))\n",
    "\n",
    "G = copy.deepcopy(Graphs['graph_119.embeddings'])\n",
    "edges = G.edges(data=True)\n",
    "for e in Graphs['graph_119.embeddings'].edges():\n",
    "    print(G.edges())\n",
    "    G.remove_edge(e[0],e[1])\n",
    "    print(getLossReward(Graphs['graph_119.embeddings'],G))\n",
    "    print(getLossRewardWithValue(oriTriangleCount,G))\n",
    "\n",
    "print(nx.density(G))\n",
    "print(nx.density(G))"
   ]
  },
  {
   "cell_type": "code",
   "execution_count": 13,
   "metadata": {},
   "outputs": [
    {
     "name": "stdout",
     "output_type": "stream",
     "text": [
      "3 10\r\n",
      "3 -0.48904344 -0.2850059 0.0455296 -0.2151032 -0.30106717 -0.40152353 0.24725278 0.17031418 0.12965006 -0.103182934\r\n",
      "1 -0.33863539 -0.14231263 -0.021082256 -0.0903189 -0.19375633 -0.2529439 0.15651801 0.11287135 0.14825433 -0.056378495\r\n",
      "2 -0.32768595 -0.14931786 0.032455314 -0.08532046 -0.21956289 -0.22765614 0.1546841 0.08071803 0.14337902 -0.092491545\r\n"
     ]
    }
   ],
   "source": [
    "!cat /home/krishraj95/Big_Data_Project/CS744-Approximate-Graph-Analytics/Featurization/deepwalk_featurized/graph_10.embeddings"
   ]
  },
  {
   "cell_type": "code",
   "execution_count": null,
   "metadata": {},
   "outputs": [],
   "source": [
    "!ls "
   ]
  },
  {
   "cell_type": "code",
   "execution_count": null,
   "metadata": {},
   "outputs": [],
   "source": []
  }
 ],
 "metadata": {
  "kernelspec": {
   "display_name": "Python 3",
   "language": "python",
   "name": "python3"
  },
  "language_info": {
   "codemirror_mode": {
    "name": "ipython",
    "version": 3
   },
   "file_extension": ".py",
   "mimetype": "text/x-python",
   "name": "python",
   "nbconvert_exporter": "python",
   "pygments_lexer": "ipython3",
   "version": "3.5.2"
  }
 },
 "nbformat": 4,
 "nbformat_minor": 2
}
