{
 "cells": [
  {
   "cell_type": "code",
   "execution_count": 14,
   "metadata": {},
   "outputs": [],
   "source": [
    "!sed -i 's/\\]//g' /home/krishraj95/Big_Data_Project/CS744-Approximate-Graph-Analytics/Featurization/final_features/*\n",
    "!sed -i 's/\\[//g' /home/krishraj95/Big_Data_Project/CS744-Approximate-Graph-Analytics/Featurization/final_features/*\n",
    "!sed -i 's/\\,//g' /home/krishraj95/Big_Data_Project/CS744-Approximate-Graph-Analytics/Featurization/final_features/*"
   ]
  },
  {
   "cell_type": "code",
   "execution_count": 2,
   "metadata": {
    "scrolled": true
   },
   "outputs": [
    {
     "name": "stdout",
     "output_type": "stream",
     "text": [
      "[(0, 1), (0, 2), (0, 3), (0, 4), (1, 4), (2, 3), (3, 5)]\n",
      "0.5\n",
      "0.5\n",
      "[(0, 2), (0, 3), (0, 4), (1, 4), (2, 3), (3, 5)]\n",
      "1.0\n",
      "1.0\n",
      "[(0, 3), (0, 4), (1, 4), (2, 3), (3, 5)]\n",
      "1.0\n",
      "1.0\n",
      "[(0, 4), (1, 4), (2, 3), (3, 5)]\n",
      "1.0\n",
      "1.0\n",
      "[(1, 4), (2, 3), (3, 5)]\n",
      "1.0\n",
      "1.0\n",
      "[(2, 3), (3, 5)]\n",
      "1.0\n",
      "1.0\n",
      "[(3, 5)]\n",
      "1.0\n",
      "1.0\n",
      "0\n",
      "0\n"
     ]
    }
   ],
   "source": [
    "import networkx as nx\n",
    "trainFilesFolder = \"/home/krishraj95/Big_Data_Project/CS744-Approximate-Graph-Analytics/Featurization/final_features/\"\n",
    "import os\n",
    "import copy \n",
    "\n",
    "def getTrianglesCount(G):\n",
    "    triangles = nx.triangles(G).values()\n",
    "    res =0\n",
    "    for t in triangles:\n",
    "        res+=t\n",
    "    return int(res/3);\n",
    "\n",
    "def getLossReward(orgG,newG):\n",
    "    t1= getTrianglesCount(orgG)\n",
    "    t2 = getTrianglesCount(newG)\n",
    "    diff = t1-t2\n",
    "    error = diff/t1\n",
    "    return error\n",
    "\n",
    "def getLossRewardWithValue(orgValue,newG):\n",
    "#     t1= getTrianglesCount(orgG)\n",
    "    t2 = getTrianglesCount(newG)\n",
    "    diff = orgValue-t2\n",
    "    error = diff/orgValue\n",
    "    return error\n",
    "\n",
    "\n",
    "Graphs = dict()\n",
    "for filename in os.listdir(trainFilesFolder):\n",
    "#     print(filename)\n",
    "    if filename.endswith(\".embeddings\"):\n",
    "        G=nx.read_edgelist(trainFilesFolder+filename, nodetype=int, data=(('f1',float),('f2',float),('f3',float),('f4',float),('f5',float),('f6',float),('f7',float),('f8',float),('f9',float),('f10',float),))\n",
    "        Graphs[filename]=G\n",
    "#         print(filename)\n",
    "# print(Graphs['graph_28.embeddings'].edges().data()[0])\n",
    "# for e in Graphs['graph_28.embeddings'].edges(data=True):\n",
    "#     print(e[2]['f1'])\n",
    "\n",
    "oriTriangleCount = (getTrianglesCount(Graphs['graph_119.embeddings']))\n",
    "\n",
    "G = copy.deepcopy(Graphs['graph_119.embeddings'])\n",
    "edges = G.edges(data=True)\n",
    "for e in Graphs['graph_119.embeddings'].edges():\n",
    "    print(G.edges())\n",
    "    G.remove_edge(e[0],e[1])\n",
    "    print(getLossReward(Graphs['graph_119.embeddings'],G))\n",
    "    print(getLossRewardWithValue(oriTriangleCount,G))\n",
    "\n",
    "print(nx.density(G))\n",
    "print(nx.density(G))"
   ]
  },
  {
   "cell_type": "code",
   "execution_count": 13,
   "metadata": {},
   "outputs": [
    {
     "name": "stdout",
     "output_type": "stream",
     "text": [
      "3 10\r\n",
      "3 -0.48904344 -0.2850059 0.0455296 -0.2151032 -0.30106717 -0.40152353 0.24725278 0.17031418 0.12965006 -0.103182934\r\n",
      "1 -0.33863539 -0.14231263 -0.021082256 -0.0903189 -0.19375633 -0.2529439 0.15651801 0.11287135 0.14825433 -0.056378495\r\n",
      "2 -0.32768595 -0.14931786 0.032455314 -0.08532046 -0.21956289 -0.22765614 0.1546841 0.08071803 0.14337902 -0.092491545\r\n"
     ]
    }
   ],
   "source": [
    "!cat /home/krishraj95/Big_Data_Project/CS744-Approximate-Graph-Analytics/Featurization/deepwalk_featurized/graph_10.embeddings"
   ]
  },
  {
   "cell_type": "code",
   "execution_count": null,
   "metadata": {},
   "outputs": [],
   "source": [
    "!ls "
   ]
  },
  {
   "cell_type": "code",
   "execution_count": 9,
   "metadata": {},
   "outputs": [
    {
     "name": "stdout",
     "output_type": "stream",
     "text": [
      "(0, 1, {'f1': -0.175375715, 'f10': -0.44760178, 'f2': -0.15689929, 'f9': -0.174218855, 'f6': 0.16389595499999998, 'f7': -0.5079419249999999, 'f3': 0.23316467, 'f8': 0.511979, 'f4': -0.32370911999999996, 'f5': -0.59045975})\n",
      "\n",
      "\n",
      "(0, 2, {'f1': -0.15269627, 'f10': -0.45907980000000004, 'f2': -0.163292415, 'f9': -0.14625465999999998, 'f6': 0.15203538, 'f7': -0.509247725, 'f3': 0.255339445, 'f8': 0.5240784599999999, 'f4': -0.320661305, 'f5': -0.5867342499999999})\n",
      "\n",
      "\n",
      "(0, 3, {'f1': -0.150279985, 'f10': -0.48519705999999996, 'f2': -0.17191400499999998, 'f9': -0.173356055, 'f6': 0.165425015, 'f7': -0.517579075, 'f3': 0.262494105, 'f8': 0.5237146749999999, 'f4': -0.352768945, 'f5': -0.57718515})\n",
      "\n",
      "\n",
      "(0, 4, {'f1': -0.195056915, 'f10': -0.44446598000000004, 'f2': -0.15076312, 'f9': -0.13743845999999998, 'f6': 0.176071015, 'f7': -0.53567666, 'f3': 0.256211765, 'f8': 0.5526595750000001, 'f4': -0.33044587000000003, 'f5': -0.590527075})\n",
      "\n",
      "\n",
      "(1, 4, {'f1': -0.19252686000000002, 'f10': -0.42653704000000003, 'f2': -0.12439368, 'f9': -0.15011470500000001, 'f6': 0.19695901, 'f7': -0.543589735, 'f3': 0.22600946500000002, 'f8': 0.5406025250000001, 'f4': -0.31212485, 'f5': -0.589407825})\n",
      "\n",
      "\n",
      "(2, 3, {'f1': -0.125070485, 'f10': -0.47874614, 'f2': -0.15193769000000001, 'f9': -0.158068105, 'f6': 0.17445243500000002, 'f7': -0.52679795, 'f3': 0.25446658, 'f8': 0.523757085, 'f4': -0.33140011, 'f5': -0.5723404})\n",
      "\n",
      "\n",
      "(3, 5, {'f1': -0.15016503, 'f10': -0.4995707, 'f2': -0.153243905, 'f9': -0.1674297, 'f6': 0.174710795, 'f7': -0.51528863, 'f3': 0.23542752, 'f8': 0.50845736, 'f4': -0.34631406, 'f5': -0.56798137})\n",
      "\n",
      "\n"
     ]
    }
   ],
   "source": [
    "G = copy.deepcopy(Graphs['graph_119.embeddings'])\n",
    "edges = G.edges(data=True)\n",
    "\n",
    "for e in edges:\n",
    "    print(e)\n",
    "    print(\"\\n\")"
   ]
  },
  {
   "cell_type": "code",
   "execution_count": 13,
   "metadata": {},
   "outputs": [
    {
     "name": "stdout",
     "output_type": "stream",
     "text": [
      "(0, 1, {'f1': -0.175375715, 'f10': -0.44760178, 'f2': -0.15689929, 'f9': -0.174218855, 'f6': 0.16389595499999998, 'f7': -0.5079419249999999, 'f3': 0.23316467, 'f8': 0.511979, 'f4': -0.32370911999999996, 'f5': -0.59045975})\n"
     ]
    }
   ],
   "source": [
    "print(list(edges)[0])"
   ]
  },
  {
   "cell_type": "code",
   "execution_count": 14,
   "metadata": {},
   "outputs": [
    {
     "data": {
      "text/plain": [
       "6"
      ]
     },
     "execution_count": 14,
     "metadata": {},
     "output_type": "execute_result"
    }
   ],
   "source": [
    "nx.number_of_nodes(G)"
   ]
  },
  {
   "cell_type": "code",
   "execution_count": null,
   "metadata": {},
   "outputs": [],
   "source": []
  }
 ],
 "metadata": {
  "kernelspec": {
   "display_name": "Python 3",
   "language": "python",
   "name": "python3"
  },
  "language_info": {
   "codemirror_mode": {
    "name": "ipython",
    "version": 3
   },
   "file_extension": ".py",
   "mimetype": "text/x-python",
   "name": "python",
   "nbconvert_exporter": "python",
   "pygments_lexer": "ipython3",
   "version": "3.5.2"
  }
 },
 "nbformat": 4,
 "nbformat_minor": 2
}
